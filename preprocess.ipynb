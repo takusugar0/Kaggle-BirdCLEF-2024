{
 "cells": [
  {
   "cell_type": "code",
   "execution_count": 1,
   "metadata": {},
   "outputs": [],
   "source": [
    "import pandas as pd\n",
    "import soundfile as sf\n",
    "from tqdm import tqdm\n",
    "import ast\n",
    "tqdm.pandas()"
   ]
  },
  {
   "cell_type": "code",
   "execution_count": 2,
   "metadata": {},
   "outputs": [
    {
     "name": "stderr",
     "output_type": "stream",
     "text": [
      "/opt/conda/lib/python3.10/site-packages/IPython/core/interactiveshell.py:3553: DtypeWarning: Columns (33) have mixed types.Specify dtype option on import or set low_memory=False.\n",
      "  exec(code_obj, self.user_global_ns, self.user_ns)\n"
     ]
    }
   ],
   "source": [
    "df = pd.read_csv('./inputs/train_audios/train_metadata.csv')\n",
    "additional = pd.read_csv('./inputs/train_audios/BirdClef2024_additional.csv')\n",
    "duplicate = pd.read_csv('./inputs/train_audios/duplicates.csv')\n",
    "master_df = pd.read_csv('./inputs/train_audios/eBird_Taxonomy_v2021.csv')"
   ]
  },
  {
   "cell_type": "code",
   "execution_count": 3,
   "metadata": {},
   "outputs": [],
   "source": [
    "df['version'] = 2024\n",
    "df['filepath'] = 'train_audio/' + df['filename']"
   ]
  },
  {
   "cell_type": "code",
   "execution_count": 4,
   "metadata": {},
   "outputs": [],
   "source": [
    "additional = additional.rename(columns={'lat': 'latitude', 'lng': 'longitude'})\n",
    "additional['version'] = 2024\n",
    "additional['rating'] = additional['q'].apply(lambda x: 5 if x == 'A' else 4 if x == 'B' else 3 if x == 'C' else 2 if x == 'D' else 1)\n",
    "spc2sci = master_df[[\"SPECIES_CODE\",\"SCI_NAME\"]].set_index(\"SCI_NAME\")[\"SPECIES_CODE\"].to_dict()\n",
    "additional['scientific_name'] = additional['gen'] + ' ' + additional['sp']\n",
    "additional[\"secondary_labels\"] = additional.also.apply(eval).apply(lambda x: [spc2sci[t] for t in x if t in spc2sci.keys()])"
   ]
  },
  {
   "cell_type": "code",
   "execution_count": 5,
   "metadata": {},
   "outputs": [],
   "source": [
    "def get_duration(row, audio_root):\n",
    "    audio_path = audio_root + row['filename']\n",
    "    error_files = []\n",
    "    try:\n",
    "        info = sf.info(audio_path)\n",
    "        return info.duration\n",
    "    except:\n",
    "        error_files.append(row['filename'])\n",
    "        return None"
   ]
  },
  {
   "cell_type": "code",
   "execution_count": 6,
   "metadata": {},
   "outputs": [],
   "source": [
    "additional['filename'] = additional['primary_label'] + '/' + additional['file'] + '.mp3'\n",
    "additional['filepath'] = 'additional_audio/' + additional['filename']"
   ]
  },
  {
   "cell_type": "code",
   "execution_count": 7,
   "metadata": {},
   "outputs": [
    {
     "name": "stderr",
     "output_type": "stream",
     "text": [
      "100%|██████████| 24459/24459 [02:18<00:00, 176.46it/s]\n",
      "100%|██████████| 24279/24279 [01:03<00:00, 379.36it/s]\n"
     ]
    }
   ],
   "source": [
    "audio_root = './inputs/train_audios/train_audio/'\n",
    "df['duration'] = df.progress_apply(lambda x: get_duration(x, audio_root), axis=1)\n",
    "additional_audio_root = './inputs/train_audios/additional_audio/'\n",
    "additional['duration'] = additional.progress_apply(lambda x: get_duration(x, additional_audio_root), axis=1)"
   ]
  },
  {
   "cell_type": "code",
   "execution_count": 8,
   "metadata": {},
   "outputs": [
    {
     "data": {
      "text/plain": [
       "0         57.696000\n",
       "1         61.272000\n",
       "2         23.249000\n",
       "3         13.009000\n",
       "4         44.747781\n",
       "            ...    \n",
       "24274    135.768000\n",
       "24275     28.056000\n",
       "24276     28.080000\n",
       "24277     47.616000\n",
       "24278     18.240000\n",
       "Name: duration, Length: 24279, dtype: float64"
      ]
     },
     "execution_count": 8,
     "metadata": {},
     "output_type": "execute_result"
    }
   ],
   "source": [
    "additional['duration']"
   ]
  },
  {
   "cell_type": "code",
   "execution_count": 9,
   "metadata": {},
   "outputs": [],
   "source": [
    "dup_files = set(list(duplicate['filename_a']) + list(duplicate['filename_b']))\n",
    "df = df[~df['filename'].isin(dup_files)]"
   ]
  },
  {
   "cell_type": "code",
   "execution_count": 10,
   "metadata": {},
   "outputs": [],
   "source": [
    "common_columns = df.columns.intersection(additional.columns)\n",
    "total = pd.concat([df[common_columns], additional[common_columns]], ignore_index=True)"
   ]
  },
  {
   "cell_type": "code",
   "execution_count": 11,
   "metadata": {},
   "outputs": [],
   "source": [
    "def safe_sample(group, n_samples):\n",
    "    if len(group) > n_samples:\n",
    "        high_rating_group = group[group['rating'] >= 4]\n",
    "        n = min(len(high_rating_group), n_samples)\n",
    "        return high_rating_group.sample(n=n, random_state=1)\n",
    "    else:\n",
    "        return group.sample(n=len(group), random_state=1)\n",
    "\n",
    "sampling_total = total.groupby('primary_label').apply(safe_sample, n_samples=500).reset_index(drop=True)"
   ]
  },
  {
   "cell_type": "code",
   "execution_count": 12,
   "metadata": {},
   "outputs": [],
   "source": [
    "df.to_csv('./inputs/train_audios/train_metadata_v2.csv', index=False)\n",
    "sampling_total.to_csv('./inputs/train_audios/train.csv', index=False)"
   ]
  },
  {
   "cell_type": "code",
   "execution_count": null,
   "metadata": {},
   "outputs": [],
   "source": []
  },
  {
   "cell_type": "code",
   "execution_count": null,
   "metadata": {},
   "outputs": [],
   "source": []
  }
 ],
 "metadata": {
  "kernelspec": {
   "display_name": "base",
   "language": "python",
   "name": "python3"
  },
  "language_info": {
   "codemirror_mode": {
    "name": "ipython",
    "version": 3
   },
   "file_extension": ".py",
   "mimetype": "text/x-python",
   "name": "python",
   "nbconvert_exporter": "python",
   "pygments_lexer": "ipython3",
   "version": "3.10.13"
  }
 },
 "nbformat": 4,
 "nbformat_minor": 2
}
